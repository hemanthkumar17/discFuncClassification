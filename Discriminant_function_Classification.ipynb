{
  "nbformat": 4,
  "nbformat_minor": 0,
  "metadata": {
    "colab": {
      "name": "Discriminant function Classification.ipynb",
      "provenance": [],
      "authorship_tag": "ABX9TyNANjZv73lkRhE8aGFEEvEP",
      "include_colab_link": true
    },
    "kernelspec": {
      "name": "python3",
      "display_name": "Python 3"
    },
    "language_info": {
      "name": "python"
    }
  },
  "cells": [
    {
      "cell_type": "markdown",
      "metadata": {
        "id": "view-in-github",
        "colab_type": "text"
      },
      "source": [
        "<a href=\"https://colab.research.google.com/github/hemanthkumar17/discFuncClassification/blob/main/Discriminant_function_Classification.ipynb\" target=\"_parent\"><img src=\"https://colab.research.google.com/assets/colab-badge.svg\" alt=\"Open In Colab\"/></a>"
      ]
    },
    {
      "cell_type": "markdown",
      "metadata": {
        "id": "VB584gft4xIH"
      },
      "source": [
        "# Classification using Linear Discriminant function"
      ]
    },
    {
      "cell_type": "markdown",
      "metadata": {
        "id": "QhQaCrP-6Rd1"
      },
      "source": [
        "A Linear Discriminant function is a f"
      ]
    },
    {
      "cell_type": "markdown",
      "metadata": {
        "id": "348g40965APM"
      },
      "source": [
        "$\n",
        "g(x) = -\\frac{1}{2}(x-\\mu_i)^t\\sum_i^{-1}(x-\\mu_i)\\ \n",
        "-\\ \\frac{d}{2}ln\\ 2\\pi\\ \n",
        "-\\ \\frac{1}{2}ln\\ |\\sum_i|\\ \n",
        "+\\ ln\\ P(\\omega_i)\n",
        "$"
      ]
    },
    {
      "cell_type": "code",
      "metadata": {
        "id": "iBgTrnxB-OyP"
      },
      "source": [
        "import numpy as np"
      ],
      "execution_count": 1,
      "outputs": []
    },
    {
      "cell_type": "code",
      "metadata": {
        "id": "ydQeIaCz4taG"
      },
      "source": [
        "# numpy functions are used to calculate the discriminant functions\n",
        "def df(x, n_feat, w_mean, w_cov, w_prior):\n",
        "    func = {}\n",
        "    for i, (i_mean, i_cov, i_prior) in enumerate(zip(w_mean, w_cov, w_prior)):\n",
        "        if w_prior != 0:\n",
        "            func[f\"w{i}\"] = -1/2 * np.matmul(np.matmul(np.transpose(x - i_mean), np.linalg.inv(i_cov)), (x - i_mean))\n",
        "            func[f\"w{i}\"] -= n_feat/2 * np.log(2 * np.pi)\n",
        "            func[f\"w{i}\"] -= 1/2 * np.log(np.linalg.det(i_cov)) \n",
        "            func[f\"w{i}\"] += np.log(i_prior) \n",
        "        else:\n",
        "            # If the prior probabilities are 0, the function returns the least possible value so that the classification\n",
        "            # will lean towards the other classes\n",
        "            func[f\"w{i}\"] = -np.inf\n",
        "    return func"
      ],
      "execution_count": 96,
      "outputs": []
    },
    {
      "cell_type": "markdown",
      "metadata": {
        "id": "jOrlcO5PO7nV"
      },
      "source": [
        "The Data is defined and the mean, covariances are calculated.<br>\n",
        "The prior probabiblities are defined based on the assumption."
      ]
    },
    {
      "cell_type": "code",
      "metadata": {
        "colab": {
          "base_uri": "https://localhost:8080/",
          "height": 0
        },
        "id": "rc3CAo1Q_X_Y",
        "outputId": "e0011930-f713-4b73-845a-eeca347e818a"
      },
      "source": [
        "# Given datapoints on which the discriminant function learns the classification\n",
        "DATA = DATA = {\n",
        "    # W1\n",
        "    \"w1\": np.array([\n",
        "        [-5.01, -8.12, -3.68],\n",
        "        [-5.43, -3.48, -3.54],\n",
        "        [1.08, -5.52, 1.66],\n",
        "        [0.86, -3.78, -4.11],\n",
        "        [-2.67, 0.63, 7.39],\n",
        "        [4.94, 3.29, 2.08],\n",
        "        [-2.51, 2.09, -2.59],\n",
        "        [-2.25, -2.13, -6.94],\n",
        "        [5.56, 2.86, -2.26],\n",
        "        [1.03, -3.33, 4.33]\n",
        "    ]),\n",
        "\n",
        "    # W2\n",
        "    \"w2\": np.array([\n",
        "        [-0.91, -0.18, -0.05],\n",
        "        [1.30, -2.06, -3.53],\n",
        "        [-7.75, -4.54, -0.95],\n",
        "        [-5.47, 0.50, 3.92],\n",
        "        [6.14, 5.72, -4.85],\n",
        "        [3.60, 1.26, 4.36],\n",
        "        [5.37, -4.63, -3.65],\n",
        "        [7.18, 1.46, -6.66],\n",
        "        [-7.39, 1.17, 6.30],\n",
        "        [-7.50, -6.32, -0.31]\n",
        "    ]),\n",
        "\n",
        "    # W3\n",
        "    \"w3\": np.array([\n",
        "        [5.35, 2.26, 8.13],\n",
        "        [5.12, 3.22, -2.66],\n",
        "        [-1.34, -5.31, -9.87],\n",
        "        [4.48, 3.42, 5.19],\n",
        "        [7.11, 2.39, 9.21],\n",
        "        [7.17, 4.33, -0.98],\n",
        "        [5.75, 3.97, 6.65],\n",
        "        [0.77, 0.27, 2.41],\n",
        "        [0.90, -0.43, -8.71],\n",
        "        [3.52, -0.36, 6.43]\n",
        "    ]) }\n",
        "\n",
        "# The mean and covariances for each class based on the data are defined\n",
        "w_mean = np.array([np.mean(DATA[i], axis=0) for i in DATA])\n",
        "w_cov = np.array([np.cov(np.transpose(DATA[i])) for i in DATA])\n",
        "\n",
        "# Output code to view the values calculated\n",
        "for i, mean in enumerate(w_mean):\n",
        "    print(f\"Mean for class w{i}:\")\n",
        "    print(mean)\n",
        "for k, cov in enumerate(w_cov):\n",
        "    print(\"-\"*20 + f\"\\nCovariance for class w{k}\\n\" + \"-\"*20)\n",
        "    for i, _ in enumerate(cov):\n",
        "        for j, ij_cov in enumerate(_):\n",
        "            if i == j:\n",
        "                s = f\"Variance of x{i}\"\n",
        "            else:\n",
        "                s = f\"Covariance of x{i} and x{j}:\"\n",
        "            print(s)\n",
        "            print(ij_cov)"
      ],
      "execution_count": 71,
      "outputs": [
        {
          "output_type": "stream",
          "name": "stdout",
          "text": [
            "Mean for class w0:\n",
            "[-0.44  -1.749 -0.766]\n",
            "Mean for class w1:\n",
            "[-0.543 -0.762 -0.542]\n",
            "Mean for class w2:\n",
            "[3.883 1.376 1.58 ]\n",
            "--------------------\n",
            "Covariance for class w0\n",
            "--------------------\n",
            "Variance of x0\n",
            "14.38051111111111\n",
            "Covariance of x0 and x1:\n",
            "7.695377777777775\n",
            "Covariance of x0 and x2:\n",
            "4.122322222222222\n",
            "Covariance of x1 and x0:\n",
            "7.695377777777775\n",
            "Variance of x1\n",
            "14.623121111111107\n",
            "Covariance of x1 and x2:\n",
            "3.90684\n",
            "Covariance of x2 and x0:\n",
            "4.122322222222222\n",
            "Covariance of x2 and x1:\n",
            "3.90684\n",
            "Variance of x2\n",
            "19.724537777777776\n",
            "--------------------\n",
            "Covariance for class w1\n",
            "--------------------\n",
            "Variance of x0\n",
            "36.82933444444444\n",
            "Covariance of x0 and x1:\n",
            "9.980926666666667\n",
            "Covariance of x0 and x2:\n",
            "-16.36675111111111\n",
            "Covariance of x1 and x0:\n",
            "9.980926666666667\n",
            "Variance of x1\n",
            "13.16855111111111\n",
            "Covariance of x1 and x2:\n",
            "0.40905111111111125\n",
            "Covariance of x2 and x0:\n",
            "-16.36675111111111\n",
            "Covariance of x2 and x1:\n",
            "0.40905111111111125\n",
            "Variance of x2\n",
            "18.421217777777773\n",
            "--------------------\n",
            "Covariance for class w2\n",
            "--------------------\n",
            "Variance of x0\n",
            "8.304756666666666\n",
            "Covariance of x0 and x1:\n",
            "7.444946666666667\n",
            "Covariance of x0 and x2:\n",
            "13.149577777777779\n",
            "Covariance of x1 and x0:\n",
            "7.444946666666667\n",
            "Variance of x1\n",
            "8.560448888888889\n",
            "Covariance of x1 and x2:\n",
            "11.608611111111108\n",
            "Covariance of x2 and x0:\n",
            "13.149577777777779\n",
            "Covariance of x2 and x1:\n",
            "11.608611111111108\n",
            "Variance of x2\n",
            "47.287288888888895\n"
          ]
        }
      ]
    },
    {
      "cell_type": "markdown",
      "metadata": {
        "id": "q8UYxVqkOyaX"
      },
      "source": [
        "Q2. Calculate the function values to find which class the data should be classified into using the discriminant function and the features we have to take."
      ]
    },
    {
      "cell_type": "code",
      "metadata": {
        "id": "9KfqOn7rOcmc"
      },
      "source": [
        "# Prior is defined as provided in the assumption\n",
        "w_prior = [1/2, 1/2, 0]\n",
        "# The d refers to the dimension of the feature space\n",
        "def classify(d, dataPoints = DATA):\n",
        "    print(\"=\"*20)\n",
        "    # We are taking the features from 1 to d to calculate the discriminant function value\n",
        "    features = [f\"x{x+1}\" for x in list(range(d))]\n",
        "    print(f\"For Features:{features}\")\n",
        "    overall = 0\n",
        "\n",
        "    # If the data is not given, it defaults to DATA thus implying that we are verifying the classification of the function\n",
        "    # to the ground truth\n",
        "    calcError = True\n",
        "    if type(dataPoints) != dict:\n",
        "        calcError = False\n",
        "        dataPoints = {\"Not classified\": dataPoints}\n",
        "    # Loop through each classes available (keys)\n",
        "    for i in dataPoints:\n",
        "        print(\"-\"*20)\n",
        "        if calcError:\n",
        "            correct = 10\n",
        "            index = int(i[1]) - 1\n",
        "            print(f\"\\nClass {i}\\n\" + \"-\"*20)\n",
        "        # We find the discriminant for each datapoint in the class w{i}\n",
        "        for data in dataPoints[i]:\n",
        "            dfVal = df(data[0:d], n_feat = d, w_mean=w_mean[:, 0:d], w_cov=w_cov[:, 0:d, 0:d], w_prior=w_prior)\n",
        "            # We find the maximum value of all the discriminant functions calculated\n",
        "            val = np.argmax(np.array(list(dfVal.values())))\n",
        "            print(f\"The data {data}\\t is classified as w{val+1}\")\n",
        "            if calcError and val != index:\n",
        "                correct -= 1\n",
        "        # Printing the error percentage between the function and the ground truth\n",
        "        if calcError:\n",
        "            print(f\"Percentage of points misclassified = {100 - correct*10} %\")\n",
        "            overall += 100 - correct*10\n",
        "    if calcError:\n",
        "        print(\"+\"*20 + f\"\\nOverall Percentage of values misclassified = {np.round(overall/3, 2)} %\\n\" + \"+\"*20)"
      ],
      "execution_count": 150,
      "outputs": []
    },
    {
      "cell_type": "markdown",
      "metadata": {
        "id": "fZ0jPTRRVIFZ"
      },
      "source": [
        "Q2.a and b We take only the features x1 and find the discriminant values to classify the data points and calculate the error percentage for each class as well as overall error"
      ]
    },
    {
      "cell_type": "code",
      "metadata": {
        "colab": {
          "base_uri": "https://localhost:8080/"
        },
        "id": "c9SOJMjZHRj6",
        "outputId": "c9910bf6-5da7-4d66-f533-be7a69fd3432"
      },
      "source": [
        "classify(1)"
      ],
      "execution_count": 151,
      "outputs": [
        {
          "output_type": "stream",
          "name": "stdout",
          "text": [
            "====================\n",
            "For Features:['x1']\n",
            "--------------------\n",
            "\n",
            "Class w1\n",
            "--------------------\n",
            "The data [-5.01 -8.12 -3.68]\t is classified as w1\n",
            "The data [-5.43 -3.48 -3.54]\t is classified as w2\n",
            "The data [ 1.08 -5.52  1.66]\t is classified as w1\n",
            "The data [ 0.86 -3.78 -4.11]\t is classified as w1\n",
            "The data [-2.67  0.63  7.39]\t is classified as w1\n",
            "The data [4.94 3.29 2.08]\t is classified as w2\n",
            "The data [-2.51  2.09 -2.59]\t is classified as w1\n",
            "The data [-2.25 -2.13 -6.94]\t is classified as w1\n",
            "The data [ 5.56  2.86 -2.26]\t is classified as w2\n",
            "The data [ 1.03 -3.33  4.33]\t is classified as w1\n",
            "Percentage of points misclassified = 30 %\n",
            "--------------------\n",
            "\n",
            "Class w2\n",
            "--------------------\n",
            "The data [-0.91 -0.18 -0.05]\t is classified as w1\n",
            "The data [ 1.3  -2.06 -3.53]\t is classified as w1\n",
            "The data [-7.75 -4.54 -0.95]\t is classified as w2\n",
            "The data [-5.47  0.5   3.92]\t is classified as w2\n",
            "The data [ 6.14  5.72 -4.85]\t is classified as w2\n",
            "The data [3.6  1.26 4.36]\t is classified as w1\n",
            "The data [ 5.37 -4.63 -3.65]\t is classified as w2\n",
            "The data [ 7.18  1.46 -6.66]\t is classified as w2\n",
            "The data [-7.39  1.17  6.3 ]\t is classified as w2\n",
            "The data [-7.5  -6.32 -0.31]\t is classified as w2\n",
            "Percentage of points misclassified = 30 %\n",
            "--------------------\n",
            "\n",
            "Class w3\n",
            "--------------------\n",
            "The data [5.35 2.26 8.13]\t is classified as w2\n",
            "The data [ 5.12  3.22 -2.66]\t is classified as w2\n",
            "The data [-1.34 -5.31 -9.87]\t is classified as w1\n",
            "The data [4.48 3.42 5.19]\t is classified as w2\n",
            "The data [7.11 2.39 9.21]\t is classified as w2\n",
            "The data [ 7.17  4.33 -0.98]\t is classified as w2\n",
            "The data [5.75 3.97 6.65]\t is classified as w2\n",
            "The data [0.77 0.27 2.41]\t is classified as w1\n",
            "The data [ 0.9  -0.43 -8.71]\t is classified as w1\n",
            "The data [ 3.52 -0.36  6.43]\t is classified as w1\n",
            "Percentage of points misclassified = 100 %\n",
            "++++++++++++++++++++\n",
            "Overall Percentage of values misclassified = 53.33 %\n",
            "++++++++++++++++++++\n"
          ]
        },
        {
          "output_type": "stream",
          "name": "stderr",
          "text": [
            "/usr/local/lib/python3.7/dist-packages/ipykernel_launcher.py:8: RuntimeWarning: divide by zero encountered in log\n",
            "  \n"
          ]
        }
      ]
    },
    {
      "cell_type": "markdown",
      "metadata": {
        "id": "NwMnLospW6DF"
      },
      "source": [
        "Q2.c We repeat the same as above using 2 features, classifying using x1 and x2"
      ]
    },
    {
      "cell_type": "code",
      "metadata": {
        "colab": {
          "base_uri": "https://localhost:8080/"
        },
        "id": "BxJACA3GVa0j",
        "outputId": "881686d7-4afb-4a65-b072-7b8523b0765c"
      },
      "source": [
        "classify(2)"
      ],
      "execution_count": 152,
      "outputs": [
        {
          "output_type": "stream",
          "name": "stdout",
          "text": [
            "====================\n",
            "For Features:['x1', 'x2']\n",
            "--------------------\n",
            "\n",
            "Class w1\n",
            "--------------------\n",
            "The data [-5.01 -8.12 -3.68]\t is classified as w1\n",
            "The data [-5.43 -3.48 -3.54]\t is classified as w2\n",
            "The data [ 1.08 -5.52  1.66]\t is classified as w1\n",
            "The data [ 0.86 -3.78 -4.11]\t is classified as w1\n",
            "The data [-2.67  0.63  7.39]\t is classified as w2\n",
            "The data [4.94 3.29 2.08]\t is classified as w2\n",
            "The data [-2.51  2.09 -2.59]\t is classified as w2\n",
            "The data [-2.25 -2.13 -6.94]\t is classified as w1\n",
            "The data [ 5.56  2.86 -2.26]\t is classified as w2\n",
            "The data [ 1.03 -3.33  4.33]\t is classified as w1\n",
            "Percentage of points misclassified = 50 %\n",
            "--------------------\n",
            "\n",
            "Class w2\n",
            "--------------------\n",
            "The data [-0.91 -0.18 -0.05]\t is classified as w1\n",
            "The data [ 1.3  -2.06 -3.53]\t is classified as w1\n",
            "The data [-7.75 -4.54 -0.95]\t is classified as w2\n",
            "The data [-5.47  0.5   3.92]\t is classified as w2\n",
            "The data [ 6.14  5.72 -4.85]\t is classified as w2\n",
            "The data [3.6  1.26 4.36]\t is classified as w1\n",
            "The data [ 5.37 -4.63 -3.65]\t is classified as w2\n",
            "The data [ 7.18  1.46 -6.66]\t is classified as w2\n",
            "The data [-7.39  1.17  6.3 ]\t is classified as w2\n",
            "The data [-7.5  -6.32 -0.31]\t is classified as w1\n",
            "Percentage of points misclassified = 40 %\n",
            "--------------------\n",
            "\n",
            "Class w3\n",
            "--------------------\n",
            "The data [5.35 2.26 8.13]\t is classified as w2\n",
            "The data [ 5.12  3.22 -2.66]\t is classified as w2\n",
            "The data [-1.34 -5.31 -9.87]\t is classified as w1\n",
            "The data [4.48 3.42 5.19]\t is classified as w1\n",
            "The data [7.11 2.39 9.21]\t is classified as w2\n",
            "The data [ 7.17  4.33 -0.98]\t is classified as w2\n",
            "The data [5.75 3.97 6.65]\t is classified as w2\n",
            "The data [0.77 0.27 2.41]\t is classified as w1\n",
            "The data [ 0.9  -0.43 -8.71]\t is classified as w1\n",
            "The data [ 3.52 -0.36  6.43]\t is classified as w1\n",
            "Percentage of points misclassified = 100 %\n",
            "++++++++++++++++++++\n",
            "Overall Percentage of values misclassified = 63.33 %\n",
            "++++++++++++++++++++\n"
          ]
        },
        {
          "output_type": "stream",
          "name": "stderr",
          "text": [
            "/usr/local/lib/python3.7/dist-packages/ipykernel_launcher.py:8: RuntimeWarning: divide by zero encountered in log\n",
            "  \n"
          ]
        }
      ]
    },
    {
      "cell_type": "markdown",
      "metadata": {
        "id": "mJhF01cgXEBY"
      },
      "source": [
        "Q2. d We repeat it using features x1, x2 and x3"
      ]
    },
    {
      "cell_type": "code",
      "metadata": {
        "colab": {
          "base_uri": "https://localhost:8080/"
        },
        "id": "O5Ac83IQWA-j",
        "outputId": "01895ebd-d6cd-4457-f639-c8398d170b4f"
      },
      "source": [
        "classify(3)"
      ],
      "execution_count": 153,
      "outputs": [
        {
          "output_type": "stream",
          "name": "stdout",
          "text": [
            "====================\n",
            "For Features:['x1', 'x2', 'x3']\n",
            "--------------------\n",
            "\n",
            "Class w1\n",
            "--------------------\n",
            "The data [-5.01 -8.12 -3.68]\t is classified as w1\n",
            "The data [-5.43 -3.48 -3.54]\t is classified as w1\n",
            "The data [ 1.08 -5.52  1.66]\t is classified as w1\n",
            "The data [ 0.86 -3.78 -4.11]\t is classified as w1\n",
            "The data [-2.67  0.63  7.39]\t is classified as w2\n",
            "The data [4.94 3.29 2.08]\t is classified as w1\n",
            "The data [-2.51  2.09 -2.59]\t is classified as w1\n",
            "The data [-2.25 -2.13 -6.94]\t is classified as w1\n",
            "The data [ 5.56  2.86 -2.26]\t is classified as w2\n",
            "The data [ 1.03 -3.33  4.33]\t is classified as w1\n",
            "Percentage of points misclassified = 20 %\n",
            "--------------------\n",
            "\n",
            "Class w2\n",
            "--------------------\n",
            "The data [-0.91 -0.18 -0.05]\t is classified as w2\n",
            "The data [ 1.3  -2.06 -3.53]\t is classified as w2\n",
            "The data [-7.75 -4.54 -0.95]\t is classified as w2\n",
            "The data [-5.47  0.5   3.92]\t is classified as w2\n",
            "The data [ 6.14  5.72 -4.85]\t is classified as w2\n",
            "The data [3.6  1.26 4.36]\t is classified as w1\n",
            "The data [ 5.37 -4.63 -3.65]\t is classified as w2\n",
            "The data [ 7.18  1.46 -6.66]\t is classified as w2\n",
            "The data [-7.39  1.17  6.3 ]\t is classified as w2\n",
            "The data [-7.5  -6.32 -0.31]\t is classified as w2\n",
            "Percentage of points misclassified = 10 %\n",
            "--------------------\n",
            "\n",
            "Class w3\n",
            "--------------------\n",
            "The data [5.35 2.26 8.13]\t is classified as w1\n",
            "The data [ 5.12  3.22 -2.66]\t is classified as w2\n",
            "The data [-1.34 -5.31 -9.87]\t is classified as w1\n",
            "The data [4.48 3.42 5.19]\t is classified as w1\n",
            "The data [7.11 2.39 9.21]\t is classified as w1\n",
            "The data [ 7.17  4.33 -0.98]\t is classified as w2\n",
            "The data [5.75 3.97 6.65]\t is classified as w1\n",
            "The data [0.77 0.27 2.41]\t is classified as w1\n",
            "The data [ 0.9  -0.43 -8.71]\t is classified as w1\n",
            "The data [ 3.52 -0.36  6.43]\t is classified as w1\n",
            "Percentage of points misclassified = 100 %\n",
            "++++++++++++++++++++\n",
            "Overall Percentage of values misclassified = 43.33 %\n",
            "++++++++++++++++++++\n"
          ]
        },
        {
          "output_type": "stream",
          "name": "stderr",
          "text": [
            "/usr/local/lib/python3.7/dist-packages/ipykernel_launcher.py:8: RuntimeWarning: divide by zero encountered in log\n",
            "  \n"
          ]
        }
      ]
    },
    {
      "cell_type": "markdown",
      "metadata": {
        "id": "FEoT-hhHXKZF"
      },
      "source": [
        "Q2. d <br>\n",
        "Error rates:<br>\n",
        "\n",
        "| Features    | Error rate |\n",
        "| ----------- | ---------- |\n",
        "| x1          | 53.33 %    |\n",
        "| x1, x2      | 63.33 %    |\n",
        "| x1, x2, x3  | 43.33 %    |\n",
        "\n",
        "\n",
        "From the results, the misclassification rate is lowest when taking all 3 features and highest when taking x1 and x2.<br>\n",
        "This happens because the covariance between the features in the case of w3 is much higher when compared to w1 and w2"
      ]
    },
    {
      "cell_type": "markdown",
      "metadata": {
        "id": "SxapQHpmZdVJ"
      },
      "source": [
        "Q2. f <br>\n",
        "We calculate the discriminant values for the data points given in the 3 methods discussed above(x1 only, x1 and x2, all 3) "
      ]
    },
    {
      "cell_type": "code",
      "metadata": {
        "colab": {
          "base_uri": "https://localhost:8080/"
        },
        "id": "3gs-zcCzWCni",
        "outputId": "35afcfbc-16e9-4126-b978-72a2b7bdff8d"
      },
      "source": [
        "newData = [\n",
        "           [1, 2, 1],\n",
        "           [5, 3, 2],\n",
        "           [0, 0, 0],\n",
        "           [1, 0, 0]\n",
        "]\n",
        "for i in range(1, 4):\n",
        "    classify(i, np.array(newData))"
      ],
      "execution_count": 154,
      "outputs": [
        {
          "output_type": "stream",
          "name": "stdout",
          "text": [
            "====================\n",
            "For Features:['x1']\n",
            "--------------------\n",
            "The data [1 2 1]\t is classified as w1\n",
            "The data [5 3 2]\t is classified as w2\n",
            "The data [0 0 0]\t is classified as w1\n",
            "The data [1 0 0]\t is classified as w1\n",
            "====================\n",
            "For Features:['x1', 'x2']\n",
            "--------------------\n",
            "The data [1 2 1]\t is classified as w1\n",
            "The data [5 3 2]\t is classified as w2\n",
            "The data [0 0 0]\t is classified as w1\n",
            "The data [1 0 0]\t is classified as w1\n",
            "====================\n",
            "For Features:['x1', 'x2', 'x3']\n",
            "--------------------\n",
            "The data [1 2 1]\t is classified as w2\n",
            "The data [5 3 2]\t is classified as w1\n",
            "The data [0 0 0]\t is classified as w1\n",
            "The data [1 0 0]\t is classified as w1\n"
          ]
        },
        {
          "output_type": "stream",
          "name": "stderr",
          "text": [
            "/usr/local/lib/python3.7/dist-packages/ipykernel_launcher.py:8: RuntimeWarning: divide by zero encountered in log\n",
            "  \n"
          ]
        }
      ]
    },
    {
      "cell_type": "code",
      "metadata": {
        "id": "WQD5J845bW_8"
      },
      "source": [
        ""
      ],
      "execution_count": 154,
      "outputs": []
    }
  ]
}